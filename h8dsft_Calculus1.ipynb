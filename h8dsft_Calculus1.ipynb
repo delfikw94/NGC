{
 "cells": [
  {
   "cell_type": "markdown",
   "source": [
    "Carilah derivative dari sebuah fungsi:\n",
    "\n",
    "$y = x^{2} + 2x + 1$\n",
    "\n",
    "$y = 4x^{3} - 3x^{2} + 2x -1$"
   ],
   "metadata": {}
  },
  {
   "cell_type": "code",
   "execution_count": 1,
   "source": [
    "import sympy as sy"
   ],
   "outputs": [],
   "metadata": {}
  },
  {
   "cell_type": "code",
   "execution_count": 2,
   "source": [
    "x = sy.Symbol('x',real=True)\n",
    "y = x**2 + 2*x + 1\n",
    "y.diff(x)"
   ],
   "outputs": [
    {
     "output_type": "execute_result",
     "data": {
      "text/plain": [
       "2*x + 2"
      ],
      "text/latex": [
       "$\\displaystyle 2 x + 2$"
      ]
     },
     "metadata": {},
     "execution_count": 2
    }
   ],
   "metadata": {}
  },
  {
   "cell_type": "code",
   "execution_count": 3,
   "source": [
    "x = sy.Symbol('x', real=True)\n",
    "y = 4*x**3 - 3*x**2 + 2*x - 1\n",
    "y.diff(x)"
   ],
   "outputs": [
    {
     "output_type": "execute_result",
     "data": {
      "text/plain": [
       "12*x**2 - 6*x + 2"
      ],
      "text/latex": [
       "$\\displaystyle 12 x^{2} - 6 x + 2$"
      ]
     },
     "metadata": {},
     "execution_count": 3
    }
   ],
   "metadata": {}
  }
 ],
 "metadata": {
  "orig_nbformat": 4,
  "language_info": {
   "name": "python",
   "version": "3.8.8",
   "mimetype": "text/x-python",
   "codemirror_mode": {
    "name": "ipython",
    "version": 3
   },
   "pygments_lexer": "ipython3",
   "nbconvert_exporter": "python",
   "file_extension": ".py"
  },
  "kernelspec": {
   "name": "python3",
   "display_name": "Python 3.8.8 64-bit ('base': conda)"
  },
  "interpreter": {
   "hash": "dca0ade3e726a953b501b15e8e990130d2b7799f14cfd9f4271676035ebe5511"
  }
 },
 "nbformat": 4,
 "nbformat_minor": 2
}