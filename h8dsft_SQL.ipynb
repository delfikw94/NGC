{
 "cells": [
  {
   "cell_type": "code",
   "execution_count": 26,
   "source": [
    "import sqlite3\n",
    "import pandas as pd"
   ],
   "outputs": [],
   "metadata": {}
  },
  {
   "cell_type": "code",
   "execution_count": 40,
   "source": [
    "conn = sqlite3.connect('student_data.db')\n",
    "c = conn.cursor()"
   ],
   "outputs": [],
   "metadata": {}
  },
  {
   "cell_type": "code",
   "execution_count": null,
   "source": [
    "c.execute('''CREATE TABLE courses (code_module varchar(3), code_presentation varchar(5), module_presentation_length int)''')"
   ],
   "outputs": [],
   "metadata": {}
  },
  {
   "cell_type": "code",
   "execution_count": 42,
   "source": [
    "courses = pd.read_csv('courses.csv')\n",
    "courses.to_sql('courses',conn, if_exists='append', index = False)"
   ],
   "outputs": [],
   "metadata": {}
  },
  {
   "cell_type": "code",
   "execution_count": null,
   "source": [
    "c.execute('''SELECT * from courses''').fetchall()"
   ],
   "outputs": [],
   "metadata": {}
  },
  {
   "cell_type": "code",
   "execution_count": 44,
   "source": [
    "c.execute('''\n",
    "CREATE TABLE studentRegistration (\n",
    "    code_module varchar(3), \n",
    "    code_presentation varchar(5), \n",
    "    id_student varchar,\n",
    "    date_registration date,\n",
    "    date_unregistration date\n",
    "    )\n",
    "''')"
   ],
   "outputs": [
    {
     "output_type": "execute_result",
     "data": {
      "text/plain": [
       "<sqlite3.Cursor at 0x7fee7f087180>"
      ]
     },
     "metadata": {},
     "execution_count": 44
    }
   ],
   "metadata": {}
  },
  {
   "cell_type": "code",
   "execution_count": null,
   "source": [
    "studentRegistration = pd.read_csv('studentRegistration.csv')\n",
    "studentRegistration.to_sql('studentRegistration',conn, if_exists='append', index = False)\n",
    "c.execute('''SELECT * from studentRegistration''').fetchall()"
   ],
   "outputs": [],
   "metadata": {}
  },
  {
   "cell_type": "code",
   "execution_count": 47,
   "source": [
    "c.execute('''\n",
    "CREATE TABLE assessments (\n",
    "    code_module varchar(3), \n",
    "    code_presentation varchar(5), \n",
    "    id_assessment varchar,\n",
    "    assessment_type varchar,\n",
    "    date int,\n",
    "    weight int\n",
    "    )\n",
    "''')"
   ],
   "outputs": [
    {
     "output_type": "execute_result",
     "data": {
      "text/plain": [
       "<sqlite3.Cursor at 0x7fee7f087180>"
      ]
     },
     "metadata": {},
     "execution_count": 47
    }
   ],
   "metadata": {}
  },
  {
   "cell_type": "code",
   "execution_count": null,
   "source": [
    "assessments = pd.read_csv('assessments.csv')\n",
    "assessments.to_sql('assessments',conn, if_exists='append', index = False)\n",
    "c.execute('''SELECT * from assessments''').fetchall()"
   ],
   "outputs": [],
   "metadata": {}
  },
  {
   "cell_type": "code",
   "execution_count": 49,
   "source": [
    "c.execute('''\n",
    "CREATE TABLE vle(\n",
    "    id_site varchar,\n",
    "    code_module varchar(3), \n",
    "    code_presentation varchar(5), \n",
    "    activity_type TEXT,\n",
    "    week_from INT,\n",
    "    week_to INT\n",
    "    )\n",
    "''')"
   ],
   "outputs": [
    {
     "output_type": "execute_result",
     "data": {
      "text/plain": [
       "<sqlite3.Cursor at 0x7fee7f087180>"
      ]
     },
     "metadata": {},
     "execution_count": 49
    }
   ],
   "metadata": {}
  },
  {
   "cell_type": "code",
   "execution_count": null,
   "source": [
    "vle = pd.read_csv('vle.csv')\n",
    "vle.to_sql('vle',conn, if_exists='append', index = False)\n",
    "c.execute('''SELECT * from vle''').fetchall()"
   ],
   "outputs": [],
   "metadata": {}
  },
  {
   "cell_type": "code",
   "execution_count": 51,
   "source": [
    "c.execute('''\n",
    "CREATE TABLE studentAssessment(\n",
    "    id_assessment VARCHAR,\n",
    "    id_student VARCHAR,\n",
    "    date_submitted DATE,\n",
    "    is_banked INT,\n",
    "    score INT\n",
    "    )\n",
    "''')"
   ],
   "outputs": [
    {
     "output_type": "execute_result",
     "data": {
      "text/plain": [
       "<sqlite3.Cursor at 0x7fee7f087180>"
      ]
     },
     "metadata": {},
     "execution_count": 51
    }
   ],
   "metadata": {}
  },
  {
   "cell_type": "code",
   "execution_count": null,
   "source": [
    "studentAssessment = pd.read_csv('studentAssessment.csv')\n",
    "studentAssessment.to_sql('studentAssessment',conn, if_exists='append', index = False)\n",
    "c.execute('''SELECT * from studentAssessment''').fetchall()"
   ],
   "outputs": [],
   "metadata": {}
  },
  {
   "cell_type": "code",
   "execution_count": 53,
   "source": [
    "c.execute('''\n",
    "CREATE TABLE studentInfo(\n",
    "    code_module varchar(3), \n",
    "    code_presentation varchar(5),\n",
    "    id_student VARCHAR,\n",
    "    gender CHAR,\n",
    "    region TEXT,\n",
    "    highest_education TEXT,\n",
    "    imd_band FLOAT,\n",
    "    age_band INT,\n",
    "    num_of_prev_attempts INT,\n",
    "    studied_credits INT,\n",
    "    disability CHAR,\n",
    "    final_result VARCHAR\n",
    "    )\n",
    "''')"
   ],
   "outputs": [
    {
     "output_type": "execute_result",
     "data": {
      "text/plain": [
       "<sqlite3.Cursor at 0x7fee7f087180>"
      ]
     },
     "metadata": {},
     "execution_count": 53
    }
   ],
   "metadata": {}
  },
  {
   "cell_type": "code",
   "execution_count": null,
   "source": [
    "studentInfo = pd.read_csv('studentInfo.csv')\n",
    "studentInfo.to_sql('studentInfo',conn, if_exists='append', index = False)\n",
    "c.execute('''SELECT * from studentInfo''').fetchall()"
   ],
   "outputs": [],
   "metadata": {}
  },
  {
   "cell_type": "code",
   "execution_count": 61,
   "source": [
    "df = pd.read_sql_query ('''\n",
    "SELECT id_student, region, code_module, code_presentation\n",
    "FROM studentInfo\n",
    "WHERE code_presentation='2014B'\n",
    "''',conn)\n",
    "df"
   ],
   "outputs": [
    {
     "output_type": "execute_result",
     "data": {
      "text/plain": [
       "     id_student                region code_module code_presentation\n",
       "0         25629              Scotland         BBB             2014B\n",
       "1         25997         London Region         BBB             2014B\n",
       "2         27891              Scotland         BBB             2014B\n",
       "3         38941  East Midlands Region         BBB             2014B\n",
       "4         50069              Scotland         BBB             2014B\n",
       "...         ...                   ...         ...               ...\n",
       "7799    2672138  North Western Region         GGG             2014B\n",
       "7800    2677135      Yorkshire Region         GGG             2014B\n",
       "7801    2682002      Yorkshire Region         GGG             2014B\n",
       "7802    2689480          North Region         GGG             2014B\n",
       "7803    2695362  East Midlands Region         GGG             2014B\n",
       "\n",
       "[7804 rows x 4 columns]"
      ],
      "text/html": [
       "<div>\n",
       "<style scoped>\n",
       "    .dataframe tbody tr th:only-of-type {\n",
       "        vertical-align: middle;\n",
       "    }\n",
       "\n",
       "    .dataframe tbody tr th {\n",
       "        vertical-align: top;\n",
       "    }\n",
       "\n",
       "    .dataframe thead th {\n",
       "        text-align: right;\n",
       "    }\n",
       "</style>\n",
       "<table border=\"1\" class=\"dataframe\">\n",
       "  <thead>\n",
       "    <tr style=\"text-align: right;\">\n",
       "      <th></th>\n",
       "      <th>id_student</th>\n",
       "      <th>region</th>\n",
       "      <th>code_module</th>\n",
       "      <th>code_presentation</th>\n",
       "    </tr>\n",
       "  </thead>\n",
       "  <tbody>\n",
       "    <tr>\n",
       "      <th>0</th>\n",
       "      <td>25629</td>\n",
       "      <td>Scotland</td>\n",
       "      <td>BBB</td>\n",
       "      <td>2014B</td>\n",
       "    </tr>\n",
       "    <tr>\n",
       "      <th>1</th>\n",
       "      <td>25997</td>\n",
       "      <td>London Region</td>\n",
       "      <td>BBB</td>\n",
       "      <td>2014B</td>\n",
       "    </tr>\n",
       "    <tr>\n",
       "      <th>2</th>\n",
       "      <td>27891</td>\n",
       "      <td>Scotland</td>\n",
       "      <td>BBB</td>\n",
       "      <td>2014B</td>\n",
       "    </tr>\n",
       "    <tr>\n",
       "      <th>3</th>\n",
       "      <td>38941</td>\n",
       "      <td>East Midlands Region</td>\n",
       "      <td>BBB</td>\n",
       "      <td>2014B</td>\n",
       "    </tr>\n",
       "    <tr>\n",
       "      <th>4</th>\n",
       "      <td>50069</td>\n",
       "      <td>Scotland</td>\n",
       "      <td>BBB</td>\n",
       "      <td>2014B</td>\n",
       "    </tr>\n",
       "    <tr>\n",
       "      <th>...</th>\n",
       "      <td>...</td>\n",
       "      <td>...</td>\n",
       "      <td>...</td>\n",
       "      <td>...</td>\n",
       "    </tr>\n",
       "    <tr>\n",
       "      <th>7799</th>\n",
       "      <td>2672138</td>\n",
       "      <td>North Western Region</td>\n",
       "      <td>GGG</td>\n",
       "      <td>2014B</td>\n",
       "    </tr>\n",
       "    <tr>\n",
       "      <th>7800</th>\n",
       "      <td>2677135</td>\n",
       "      <td>Yorkshire Region</td>\n",
       "      <td>GGG</td>\n",
       "      <td>2014B</td>\n",
       "    </tr>\n",
       "    <tr>\n",
       "      <th>7801</th>\n",
       "      <td>2682002</td>\n",
       "      <td>Yorkshire Region</td>\n",
       "      <td>GGG</td>\n",
       "      <td>2014B</td>\n",
       "    </tr>\n",
       "    <tr>\n",
       "      <th>7802</th>\n",
       "      <td>2689480</td>\n",
       "      <td>North Region</td>\n",
       "      <td>GGG</td>\n",
       "      <td>2014B</td>\n",
       "    </tr>\n",
       "    <tr>\n",
       "      <th>7803</th>\n",
       "      <td>2695362</td>\n",
       "      <td>East Midlands Region</td>\n",
       "      <td>GGG</td>\n",
       "      <td>2014B</td>\n",
       "    </tr>\n",
       "  </tbody>\n",
       "</table>\n",
       "<p>7804 rows × 4 columns</p>\n",
       "</div>"
      ]
     },
     "metadata": {},
     "execution_count": 61
    }
   ],
   "metadata": {}
  },
  {
   "cell_type": "code",
   "execution_count": 64,
   "source": [
    "df.to_excel(excel_writer='Test.xls')"
   ],
   "outputs": [
    {
     "output_type": "stream",
     "name": "stderr",
     "text": [
      "<ipython-input-64-2d0ec6eb07d0>:1: FutureWarning: As the xlwt package is no longer maintained, the xlwt engine will be removed in a future version of pandas. This is the only engine in pandas that supports writing in the xls format. Install openpyxl and write to an xlsx file instead. You can set the option io.excel.xls.writer to 'xlwt' to silence this warning. While this option is deprecated and will also raise a warning, it can be globally set and the warning suppressed.\n",
      "  df.to_excel(excel_writer='Test.xls')\n"
     ]
    }
   ],
   "metadata": {}
  }
 ],
 "metadata": {
  "orig_nbformat": 4,
  "language_info": {
   "name": "python",
   "version": "3.8.8",
   "mimetype": "text/x-python",
   "codemirror_mode": {
    "name": "ipython",
    "version": 3
   },
   "pygments_lexer": "ipython3",
   "nbconvert_exporter": "python",
   "file_extension": ".py"
  },
  "kernelspec": {
   "name": "python3",
   "display_name": "Python 3.8.8 64-bit ('base': conda)"
  },
  "interpreter": {
   "hash": "dca0ade3e726a953b501b15e8e990130d2b7799f14cfd9f4271676035ebe5511"
  }
 },
 "nbformat": 4,
 "nbformat_minor": 2
}