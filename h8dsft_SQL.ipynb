{
 "cells": [
  {
   "cell_type": "code",
   "execution_count": 2,
   "source": [
    "import sqlite3\n",
    "import pandas as pd"
   ],
   "outputs": [],
   "metadata": {}
  },
  {
   "cell_type": "code",
   "execution_count": 29,
   "source": [
    "conn = sqlite3.connect('students.db')\n",
    "c = conn.cursor()"
   ],
   "outputs": [],
   "metadata": {}
  },
  {
   "cell_type": "code",
   "execution_count": 30,
   "source": [
    "c.execute('''CREATE TABLE courses (\n",
    "    code_module VARCHAR(3), \n",
    "    code_presentation VARCHAR(5), \n",
    "    module_presentation_length INT\n",
    "    )'''\n",
    ")"
   ],
   "outputs": [
    {
     "output_type": "execute_result",
     "data": {
      "text/plain": [
       "<sqlite3.Cursor at 0x7fb951338b20>"
      ]
     },
     "metadata": {},
     "execution_count": 30
    }
   ],
   "metadata": {}
  },
  {
   "cell_type": "code",
   "execution_count": 31,
   "source": [
    "courses = pd.read_csv('courses.csv')\n",
    "courses.to_sql('courses',conn, if_exists='append', index = False)"
   ],
   "outputs": [],
   "metadata": {}
  },
  {
   "cell_type": "code",
   "execution_count": 32,
   "source": [
    "c.execute('''SELECT * from courses''').fetchall()"
   ],
   "outputs": [
    {
     "output_type": "execute_result",
     "data": {
      "text/plain": [
       "[('AAA', '2013J', 268),\n",
       " ('AAA', '2014J', 269),\n",
       " ('BBB', '2013J', 268),\n",
       " ('BBB', '2014J', 262),\n",
       " ('BBB', '2013B', 240),\n",
       " ('BBB', '2014B', 234),\n",
       " ('CCC', '2014J', 269),\n",
       " ('CCC', '2014B', 241),\n",
       " ('DDD', '2013J', 261),\n",
       " ('DDD', '2014J', 262),\n",
       " ('DDD', '2013B', 240),\n",
       " ('DDD', '2014B', 241),\n",
       " ('EEE', '2013J', 268),\n",
       " ('EEE', '2014J', 269),\n",
       " ('EEE', '2014B', 241),\n",
       " ('FFF', '2013J', 268),\n",
       " ('FFF', '2014J', 269),\n",
       " ('FFF', '2013B', 240),\n",
       " ('FFF', '2014B', 241),\n",
       " ('GGG', '2013J', 261),\n",
       " ('GGG', '2014J', 269),\n",
       " ('GGG', '2014B', 241)]"
      ]
     },
     "metadata": {},
     "execution_count": 32
    }
   ],
   "metadata": {}
  },
  {
   "cell_type": "code",
   "execution_count": 33,
   "source": [
    "c.execute('''\n",
    "CREATE TABLE studentRegistration (\n",
    "    code_module varchar(3), \n",
    "    code_presentation varchar(5), \n",
    "    id_student varchar,\n",
    "    date_registration date,\n",
    "    date_unregistration date,\n",
    "    FOREIGN KEY(id_student) REFERENCES studentInfo(id_student)\n",
    "    )\n",
    "''')"
   ],
   "outputs": [
    {
     "output_type": "execute_result",
     "data": {
      "text/plain": [
       "<sqlite3.Cursor at 0x7fb951338b20>"
      ]
     },
     "metadata": {},
     "execution_count": 33
    }
   ],
   "metadata": {}
  },
  {
   "cell_type": "code",
   "execution_count": null,
   "source": [
    "studentRegistration = pd.read_csv('studentRegistration.csv')\n",
    "studentRegistration.to_sql('studentRegistration',conn, if_exists='append', index = False)\n",
    "c.execute('''SELECT * from studentRegistration''').fetchall()"
   ],
   "outputs": [],
   "metadata": {}
  },
  {
   "cell_type": "code",
   "execution_count": 35,
   "source": [
    "c.execute('''\n",
    "CREATE TABLE assessments (\n",
    "    code_module varchar(3), \n",
    "    code_presentation varchar(5), \n",
    "    id_assessment varchar PRIMARY KEY,\n",
    "    assessment_type varchar,\n",
    "    date int,\n",
    "    weight int\n",
    "    )\n",
    "''')"
   ],
   "outputs": [
    {
     "output_type": "execute_result",
     "data": {
      "text/plain": [
       "<sqlite3.Cursor at 0x7fb951338b20>"
      ]
     },
     "metadata": {},
     "execution_count": 35
    }
   ],
   "metadata": {}
  },
  {
   "cell_type": "code",
   "execution_count": null,
   "source": [
    "assessments = pd.read_csv('assessments.csv')\n",
    "assessments.to_sql('assessments',conn, if_exists='append', index = False)\n",
    "c.execute('''SELECT * from assessments''').fetchall()"
   ],
   "outputs": [],
   "metadata": {}
  },
  {
   "cell_type": "code",
   "execution_count": 37,
   "source": [
    "c.execute('''\n",
    "CREATE TABLE vle(\n",
    "    id_site varchar PRIMARY KEY,\n",
    "    code_module varchar(3), \n",
    "    code_presentation varchar(5), \n",
    "    activity_type TEXT,\n",
    "    week_from INT,\n",
    "    week_to INT\n",
    "    )\n",
    "''')"
   ],
   "outputs": [
    {
     "output_type": "execute_result",
     "data": {
      "text/plain": [
       "<sqlite3.Cursor at 0x7fb951338b20>"
      ]
     },
     "metadata": {},
     "execution_count": 37
    }
   ],
   "metadata": {}
  },
  {
   "cell_type": "code",
   "execution_count": null,
   "source": [
    "vle = pd.read_csv('vle.csv')\n",
    "vle.to_sql('vle',conn, if_exists='append', index = False)\n",
    "c.execute('''SELECT * from vle''').fetchall()"
   ],
   "outputs": [],
   "metadata": {}
  },
  {
   "cell_type": "code",
   "execution_count": 39,
   "source": [
    "c.execute('''\n",
    "CREATE TABLE studentAssessment(\n",
    "    id_assessment VARCHAR,\n",
    "    id_student VARCHAR,\n",
    "    date_submitted DATE,\n",
    "    is_banked INT,\n",
    "    score INT,\n",
    "    FOREIGN KEY(id_assessment) REFERENCES studentInfo(id_student)\n",
    "    )\n",
    "''')"
   ],
   "outputs": [
    {
     "output_type": "execute_result",
     "data": {
      "text/plain": [
       "<sqlite3.Cursor at 0x7fb951338b20>"
      ]
     },
     "metadata": {},
     "execution_count": 39
    }
   ],
   "metadata": {}
  },
  {
   "cell_type": "code",
   "execution_count": null,
   "source": [
    "studentAssessment = pd.read_csv('studentAssessment.csv')\n",
    "studentAssessment.to_sql('studentAssessment',conn, if_exists='append', index = False)\n",
    "c.execute('''SELECT * from studentAssessment''').fetchall()"
   ],
   "outputs": [],
   "metadata": {}
  },
  {
   "cell_type": "code",
   "execution_count": 41,
   "source": [
    "c.execute('''\n",
    "CREATE TABLE studentInfo(\n",
    "    code_module varchar(3), \n",
    "    code_presentation varchar(5),\n",
    "    id_student VARCHAR,\n",
    "    gender CHAR,\n",
    "    region TEXT,\n",
    "    highest_education TEXT,\n",
    "    imd_band FLOAT,\n",
    "    age_band INT,\n",
    "    num_of_prev_attempts INT,\n",
    "    studied_credits INT,\n",
    "    disability CHAR,\n",
    "    final_result VARCHAR\n",
    "    )\n",
    "''')"
   ],
   "outputs": [
    {
     "output_type": "execute_result",
     "data": {
      "text/plain": [
       "<sqlite3.Cursor at 0x7fb951338b20>"
      ]
     },
     "metadata": {},
     "execution_count": 41
    }
   ],
   "metadata": {}
  },
  {
   "cell_type": "code",
   "execution_count": null,
   "source": [
    "studentInfo = pd.read_csv('studentInfo.csv')\n",
    "studentInfo.to_sql('studentInfo',conn, if_exists='append', index = False)\n",
    "c.execute('''SELECT * from studentInfo''').fetchall()"
   ],
   "outputs": [],
   "metadata": {}
  },
  {
   "cell_type": "code",
   "execution_count": 46,
   "source": [
    "df = pd.read_sql_query ('''\n",
    "SELECT id_student, region, code_module, code_presentation\n",
    "FROM studentInfo\n",
    "WHERE code_presentation='2014B'\n",
    "''',conn)\n",
    "df"
   ],
   "outputs": [
    {
     "output_type": "execute_result",
     "data": {
      "text/plain": [
       "     id_student                region code_module code_presentation\n",
       "0         23641      Yorkshire Region         GGG             2014B\n",
       "1         23647   East Anglian Region         DDD             2014B\n",
       "2         23659  North Western Region         EEE             2014B\n",
       "3         23671              Scotland         BBB             2014B\n",
       "4         23674         London Region         BBB             2014B\n",
       "...         ...                   ...         ...               ...\n",
       "7799     735459  East Midlands Region         FFF             2014B\n",
       "7800     735479     South East Region         FFF             2014B\n",
       "7801     735539     South West Region         DDD             2014B\n",
       "7802     735559                 Wales         CCC             2014B\n",
       "7803     735639  North Western Region         DDD             2014B\n",
       "\n",
       "[7804 rows x 4 columns]"
      ],
      "text/html": [
       "<div>\n",
       "<style scoped>\n",
       "    .dataframe tbody tr th:only-of-type {\n",
       "        vertical-align: middle;\n",
       "    }\n",
       "\n",
       "    .dataframe tbody tr th {\n",
       "        vertical-align: top;\n",
       "    }\n",
       "\n",
       "    .dataframe thead th {\n",
       "        text-align: right;\n",
       "    }\n",
       "</style>\n",
       "<table border=\"1\" class=\"dataframe\">\n",
       "  <thead>\n",
       "    <tr style=\"text-align: right;\">\n",
       "      <th></th>\n",
       "      <th>id_student</th>\n",
       "      <th>region</th>\n",
       "      <th>code_module</th>\n",
       "      <th>code_presentation</th>\n",
       "    </tr>\n",
       "  </thead>\n",
       "  <tbody>\n",
       "    <tr>\n",
       "      <th>0</th>\n",
       "      <td>23641</td>\n",
       "      <td>Yorkshire Region</td>\n",
       "      <td>GGG</td>\n",
       "      <td>2014B</td>\n",
       "    </tr>\n",
       "    <tr>\n",
       "      <th>1</th>\n",
       "      <td>23647</td>\n",
       "      <td>East Anglian Region</td>\n",
       "      <td>DDD</td>\n",
       "      <td>2014B</td>\n",
       "    </tr>\n",
       "    <tr>\n",
       "      <th>2</th>\n",
       "      <td>23659</td>\n",
       "      <td>North Western Region</td>\n",
       "      <td>EEE</td>\n",
       "      <td>2014B</td>\n",
       "    </tr>\n",
       "    <tr>\n",
       "      <th>3</th>\n",
       "      <td>23671</td>\n",
       "      <td>Scotland</td>\n",
       "      <td>BBB</td>\n",
       "      <td>2014B</td>\n",
       "    </tr>\n",
       "    <tr>\n",
       "      <th>4</th>\n",
       "      <td>23674</td>\n",
       "      <td>London Region</td>\n",
       "      <td>BBB</td>\n",
       "      <td>2014B</td>\n",
       "    </tr>\n",
       "    <tr>\n",
       "      <th>...</th>\n",
       "      <td>...</td>\n",
       "      <td>...</td>\n",
       "      <td>...</td>\n",
       "      <td>...</td>\n",
       "    </tr>\n",
       "    <tr>\n",
       "      <th>7799</th>\n",
       "      <td>735459</td>\n",
       "      <td>East Midlands Region</td>\n",
       "      <td>FFF</td>\n",
       "      <td>2014B</td>\n",
       "    </tr>\n",
       "    <tr>\n",
       "      <th>7800</th>\n",
       "      <td>735479</td>\n",
       "      <td>South East Region</td>\n",
       "      <td>FFF</td>\n",
       "      <td>2014B</td>\n",
       "    </tr>\n",
       "    <tr>\n",
       "      <th>7801</th>\n",
       "      <td>735539</td>\n",
       "      <td>South West Region</td>\n",
       "      <td>DDD</td>\n",
       "      <td>2014B</td>\n",
       "    </tr>\n",
       "    <tr>\n",
       "      <th>7802</th>\n",
       "      <td>735559</td>\n",
       "      <td>Wales</td>\n",
       "      <td>CCC</td>\n",
       "      <td>2014B</td>\n",
       "    </tr>\n",
       "    <tr>\n",
       "      <th>7803</th>\n",
       "      <td>735639</td>\n",
       "      <td>North Western Region</td>\n",
       "      <td>DDD</td>\n",
       "      <td>2014B</td>\n",
       "    </tr>\n",
       "  </tbody>\n",
       "</table>\n",
       "<p>7804 rows × 4 columns</p>\n",
       "</div>"
      ]
     },
     "metadata": {},
     "execution_count": 46
    }
   ],
   "metadata": {}
  },
  {
   "cell_type": "code",
   "execution_count": null,
   "source": [
    "df.to_excel(excel_writer='Test.xls')"
   ],
   "outputs": [
    {
     "output_type": "stream",
     "name": "stderr",
     "text": [
      "<ipython-input-44-2d0ec6eb07d0>:1: FutureWarning: As the xlwt package is no longer maintained, the xlwt engine will be removed in a future version of pandas. This is the only engine in pandas that supports writing in the xls format. Install openpyxl and write to an xlsx file instead. You can set the option io.excel.xls.writer to 'xlwt' to silence this warning. While this option is deprecated and will also raise a warning, it can be globally set and the warning suppressed.\n",
      "  df.to_excel(excel_writer='Test.xls')\n"
     ]
    }
   ],
   "metadata": {}
  }
 ],
 "metadata": {
  "orig_nbformat": 4,
  "language_info": {
   "name": "python",
   "version": "3.8.8",
   "mimetype": "text/x-python",
   "codemirror_mode": {
    "name": "ipython",
    "version": 3
   },
   "pygments_lexer": "ipython3",
   "nbconvert_exporter": "python",
   "file_extension": ".py"
  },
  "kernelspec": {
   "name": "python3",
   "display_name": "Python 3.8.8 64-bit ('base': conda)"
  },
  "interpreter": {
   "hash": "dca0ade3e726a953b501b15e8e990130d2b7799f14cfd9f4271676035ebe5511"
  }
 },
 "nbformat": 4,
 "nbformat_minor": 2
}