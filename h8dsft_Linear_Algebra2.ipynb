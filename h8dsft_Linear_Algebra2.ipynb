{
 "cells": [
  {
   "cell_type": "code",
   "execution_count": 5,
   "source": [
    "import numpy as np\n",
    "from numpy.linalg import inv, det"
   ],
   "outputs": [],
   "metadata": {}
  },
  {
   "cell_type": "markdown",
   "source": [
    "1. BuatlahTensor di bawah ini dengan Python: [[[[23,50],[7,12]],[[57.67],[99,43]]],[[[75,21],[57,12]],[[87,26],[18,84]]]\n"
   ],
   "metadata": {}
  },
  {
   "cell_type": "code",
   "execution_count": 12,
   "source": [
    "t = np.array([[[[23,50],[7,12]],[[57,67],[99,43]]],[[[75,21],[57,12]],[[87,26],[18,84]]]])\n",
    "print(t)"
   ],
   "outputs": [
    {
     "output_type": "stream",
     "name": "stdout",
     "text": [
      "[[[[23 50]\n",
      "   [ 7 12]]\n",
      "\n",
      "  [[57 67]\n",
      "   [99 43]]]\n",
      "\n",
      "\n",
      " [[[75 21]\n",
      "   [57 12]]\n",
      "\n",
      "  [[87 26]\n",
      "   [18 84]]]]\n"
     ]
    }
   ],
   "metadata": {}
  },
  {
   "cell_type": "markdown",
   "source": [
    "2. Lakukan perkalian terhadap matrix berikut:\n",
    "\n",
    "$$ \n",
    "A = \\begin{bmatrix} \n",
    "23 & 50 & 19 \\\\\n",
    "7 & 12 & 109 \\\\\n",
    "57 & 67 & 98 \n",
    "\\end{bmatrix} \n",
    "\\begin{bmatrix} \n",
    "17 \\\\ \n",
    "22 \\\\\n",
    "19 \n",
    "\\end{bmatrix} \n",
    "$$"
   ],
   "metadata": {}
  },
  {
   "cell_type": "code",
   "execution_count": 3,
   "source": [
    "m = np.array([[23, 50, 19],[ 7, 12, 109],[ 57, 67, 98]])\n",
    "n = np.array([17, 22, 19])\n",
    "o = m@n\n",
    "print(o)"
   ],
   "outputs": [
    {
     "output_type": "stream",
     "name": "stdout",
     "text": [
      "[1852 2454 4305]\n"
     ]
    }
   ],
   "metadata": {}
  },
  {
   "cell_type": "markdown",
   "source": [
    "3. Lakukan Transpose, determinant, dan inverse terhadap matrix dibawah ini:\n",
    "\n",
    "$$\n",
    "\\begin{bmatrix}\n",
    "23 & 50 & 19 \\\\\n",
    "7 & 12 & 109 \\\\\n",
    "57 & 67 & 98\n",
    "\\end{bmatrix}\n",
    "$$"
   ],
   "metadata": {}
  },
  {
   "cell_type": "code",
   "execution_count": 4,
   "source": [
    "m = np.array([[23, 50, 19],[ 7, 12, 109],[ 57, 67, 98]])\n",
    "m_trans = m.T\n",
    "print(m_trans)"
   ],
   "outputs": [
    {
     "output_type": "stream",
     "name": "stdout",
     "text": [
      "[[ 23   7  57]\n",
      " [ 50  12  67]\n",
      " [ 19 109  98]]\n"
     ]
    }
   ],
   "metadata": {}
  },
  {
   "cell_type": "code",
   "execution_count": 7,
   "source": [
    "inv_m = inv(m) \n",
    "print(inv_m)"
   ],
   "outputs": [
    {
     "output_type": "stream",
     "name": "stdout",
     "text": [
      "[[-0.0466485  -0.02761451  0.03975819]\n",
      " [ 0.04208034  0.00891552 -0.01807467]\n",
      " [-0.00163692  0.0099662  -0.00056341]]\n"
     ]
    }
   ],
   "metadata": {}
  },
  {
   "cell_type": "code",
   "execution_count": 8,
   "source": [
    "det_m = det(m)\n",
    "print(det(m))"
   ],
   "outputs": [
    {
     "output_type": "stream",
     "name": "stdout",
     "text": [
      "131344.0000000002\n"
     ]
    }
   ],
   "metadata": {}
  }
 ],
 "metadata": {
  "interpreter": {
   "hash": "dca0ade3e726a953b501b15e8e990130d2b7799f14cfd9f4271676035ebe5511"
  },
  "kernelspec": {
   "name": "python3",
   "display_name": "Python 3.8.8 64-bit ('base': conda)"
  },
  "language_info": {
   "codemirror_mode": {
    "name": "ipython",
    "version": 3
   },
   "file_extension": ".py",
   "mimetype": "text/x-python",
   "name": "python",
   "nbconvert_exporter": "python",
   "pygments_lexer": "ipython3",
   "version": "3.8.8"
  }
 },
 "nbformat": 4,
 "nbformat_minor": 2
}