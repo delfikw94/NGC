{
 "cells": [
  {
   "cell_type": "markdown",
   "source": [
    "# Non Graded Challenge 9\n",
    "\n",
    "_Non-Graded Assignment ini dibuat guna mengevaluasi pembelajaran pada Hacktiv8 Data Science Fulltime Program khususnya pada konsep Calculus._\n",
    "\n",
    "---\n",
    "\n",
    "## Assignment Instructions\n",
    "\n",
    "- Carilah gradient dari sebuah fungsi:\n",
    "  - $3x+4y=5$\n",
    "\n",
    "## Assignment Submission\n",
    "\n",
    "- Simpan assignment pada sesi ini dengan nama `h8dsft_Calculus3`.\n",
    "- Push Assigment yang telah kalian buat ke akun Github kalian masing-masing.\n",
    "\n",
    "## Assignment Objectives\n",
    "\n",
    "Non-Graded Assignment ini dibuat guna mengevaluasi konsep Calculus sebagai berikut:\n",
    "\n",
    "- Mampu memahami konsep gradient\n",
    "- Mampu mencari gradient sebuah fungsi dengan menggunakan Python"
   ],
   "metadata": {}
  },
  {
   "cell_type": "code",
   "execution_count": 4,
   "source": [
    "import numpy as np\n",
    "import sympy as sy"
   ],
   "outputs": [],
   "metadata": {}
  },
  {
   "cell_type": "code",
   "execution_count": 9,
   "source": [
    "x = sy.Symbol('x', real=True)\n",
    "y = (-3*x + 5)/4\n",
    "\n",
    "dx = sy.diff(y,x)\n",
    "print(\"Gradiennya adalah: \", dx)\n"
   ],
   "outputs": [
    {
     "output_type": "stream",
     "name": "stdout",
     "text": [
      "Gradiennya adalah:  -3/4\n"
     ]
    }
   ],
   "metadata": {}
  }
 ],
 "metadata": {
  "orig_nbformat": 4,
  "language_info": {
   "name": "python",
   "version": "3.8.8",
   "mimetype": "text/x-python",
   "codemirror_mode": {
    "name": "ipython",
    "version": 3
   },
   "pygments_lexer": "ipython3",
   "nbconvert_exporter": "python",
   "file_extension": ".py"
  },
  "kernelspec": {
   "name": "python3",
   "display_name": "Python 3.8.8 64-bit ('base': conda)"
  },
  "interpreter": {
   "hash": "dca0ade3e726a953b501b15e8e990130d2b7799f14cfd9f4271676035ebe5511"
  }
 },
 "nbformat": 4,
 "nbformat_minor": 2
}