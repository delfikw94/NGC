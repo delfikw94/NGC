{
 "cells": [
  {
   "cell_type": "markdown",
   "source": [
    "# Non Graded Challenge 6\n",
    "\n",
    "_Non-Graded Assignment ini dibuat guna mengevaluasi pembelajaran pada Hacktiv8 Data Science Fulltime Program khususnya pada konsep Linear Algebra._\n",
    "\n",
    "---\n",
    "\n",
    "## Assignment Instructions\n",
    "\n",
    "Apakah $\\begin{bmatrix}1 \\\\3\\end{bmatrix}$ adalah eigenvector dari $\\begin{bmatrix}1 & -1\\\\6 &-4 \\end{bmatrix}$? Jika iya, berapakah eigenvalue-nya?\n",
    "\n",
    "## Assignment Submission\n",
    "\n",
    "- Simpan assignment pada sesi ini dengan nama `h8dsft_Linear_Algebra3`.\n",
    "- Push Assigment yang telah kalian buat ke akun Github kalian masing-masing.\n",
    "\n",
    "## Assignment Objectives\n",
    "\n",
    "Non-Graded Assignment ini dibuat guna mengevaluasi konsep Linear Algebra sebagai berikut:\n",
    "\n",
    "- Memahami konsep eigenvalue dan eigenvector\n",
    "- Dapat mencari eigenvalue dan eigenvector"
   ],
   "metadata": {}
  },
  {
   "cell_type": "markdown",
   "source": [
    "### Name : Delfi Kusuma Wardhani\n",
    "#### Batch : FTDS/002"
   ],
   "metadata": {}
  },
  {
   "cell_type": "code",
   "execution_count": 5,
   "source": [
    "from numpy import array\n",
    "from numpy.linalg import eig\n",
    "import numpy as np"
   ],
   "outputs": [],
   "metadata": {}
  },
  {
   "cell_type": "code",
   "execution_count": 3,
   "source": [
    "A = array([[1],[3]])\n",
    "B = array([[1,-1],[6,-4]])\n",
    "values, vectors = eig(B)\n",
    "\n",
    "print(values)\n",
    "print(vectors)"
   ],
   "outputs": [
    {
     "output_type": "stream",
     "name": "stdout",
     "text": [
      "[-1. -2.]\n",
      "[[0.4472136  0.31622777]\n",
      " [0.89442719 0.9486833 ]]\n"
     ]
    }
   ],
   "metadata": {}
  },
  {
   "cell_type": "markdown",
   "source": [
    "eigen value dari dari array B adalah -1 dan -2"
   ],
   "metadata": {}
  },
  {
   "cell_type": "code",
   "execution_count": 23,
   "source": [
    "# mengalikan (dot product) array B dengan array A\n",
    "c = B.dot(A)\n",
    "c           # menghasilkan array c"
   ],
   "outputs": [
    {
     "output_type": "execute_result",
     "data": {
      "text/plain": [
       "array([[-2],\n",
       "       [-6]])"
      ]
     },
     "metadata": {},
     "execution_count": 23
    }
   ],
   "metadata": {}
  },
  {
   "cell_type": "code",
   "execution_count": 21,
   "source": [
    "# Mencoba membagi array c dengan eigen value = -1\n",
    "c/values[0]"
   ],
   "outputs": [
    {
     "output_type": "execute_result",
     "data": {
      "text/plain": [
       "array([[2.],\n",
       "       [6.]])"
      ]
     },
     "metadata": {},
     "execution_count": 21
    }
   ],
   "metadata": {}
  },
  {
   "cell_type": "code",
   "execution_count": 22,
   "source": [
    "# Mencoba membagi array c dengan eigen value = -2\n",
    "c/values[1]"
   ],
   "outputs": [
    {
     "output_type": "execute_result",
     "data": {
      "text/plain": [
       "array([[1.],\n",
       "       [3.]])"
      ]
     },
     "metadata": {},
     "execution_count": 22
    }
   ],
   "metadata": {}
  },
  {
   "cell_type": "markdown",
   "source": [
    "Output di atas adalah array dari vector [[1],[3]], menandakan bahwa vector $\\begin{bmatrix}1 \\\\3\\end{bmatrix}$ adalah eigenvector dari $\\begin{bmatrix}1 & -1\\\\6 &-4 \\end{bmatrix}$"
   ],
   "metadata": {}
  }
 ],
 "metadata": {
  "orig_nbformat": 4,
  "language_info": {
   "name": "python",
   "version": "3.8.8",
   "mimetype": "text/x-python",
   "codemirror_mode": {
    "name": "ipython",
    "version": 3
   },
   "pygments_lexer": "ipython3",
   "nbconvert_exporter": "python",
   "file_extension": ".py"
  },
  "kernelspec": {
   "name": "python3",
   "display_name": "Python 3.8.8 64-bit ('base': conda)"
  },
  "interpreter": {
   "hash": "dca0ade3e726a953b501b15e8e990130d2b7799f14cfd9f4271676035ebe5511"
  }
 },
 "nbformat": 4,
 "nbformat_minor": 2
}